{
  "nbformat": 4,
  "nbformat_minor": 0,
  "metadata": {
    "colab": {
      "name": "Copy of remastering.ipynb",
      "provenance": [],
      "include_colab_link": true
    },
    "kernelspec": {
      "name": "python3",
      "display_name": "Python 3"
    },
    "accelerator": "GPU"
  },
  "cells": [
    {
      "cell_type": "markdown",
      "metadata": {
        "id": "view-in-github",
        "colab_type": "text"
      },
      "source": [
        "<a href=\"https://colab.research.google.com/github/AhabbscienceStudioPak/siggraphasia2019_remastering/blob/master/Copy_of_remastering.ipynb\" target=\"_parent\"><img src=\"https://colab.research.google.com/assets/colab-badge.svg\" alt=\"Open In Colab\"/></a>"
      ]
    },
    {
      "cell_type": "code",
      "metadata": {
        "id": "DjxH0cfp9cIN",
        "colab": {
          "base_uri": "https://localhost:8080/"
        },
        "outputId": "a1863f9d-9725-4ce4-ff7e-89dd3c3f69d0"
      },
      "source": [
        "!nvidia-smi"
      ],
      "execution_count": null,
      "outputs": [
        {
          "output_type": "stream",
          "text": [
            "Thu Dec 24 19:15:55 2020       \n",
            "+-----------------------------------------------------------------------------+\n",
            "| NVIDIA-SMI 460.27.04    Driver Version: 418.67       CUDA Version: 10.1     |\n",
            "|-------------------------------+----------------------+----------------------+\n",
            "| GPU  Name        Persistence-M| Bus-Id        Disp.A | Volatile Uncorr. ECC |\n",
            "| Fan  Temp  Perf  Pwr:Usage/Cap|         Memory-Usage | GPU-Util  Compute M. |\n",
            "|                               |                      |               MIG M. |\n",
            "|===============================+======================+======================|\n",
            "|   0  Tesla T4            Off  | 00000000:00:04.0 Off |                    0 |\n",
            "| N/A   33C    P8     9W /  70W |      0MiB / 15079MiB |      0%      Default |\n",
            "|                               |                      |                 ERR! |\n",
            "+-------------------------------+----------------------+----------------------+\n",
            "                                                                               \n",
            "+-----------------------------------------------------------------------------+\n",
            "| Processes:                                                                  |\n",
            "|  GPU   GI   CI        PID   Type   Process name                  GPU Memory |\n",
            "|        ID   ID                                                   Usage      |\n",
            "|=============================================================================|\n",
            "|  No running processes found                                                 |\n",
            "+-----------------------------------------------------------------------------+\n"
          ],
          "name": "stdout"
        }
      ]
    },
    {
      "cell_type": "code",
      "metadata": {
        "id": "DUmKCwSOhzOp",
        "colab": {
          "base_uri": "https://localhost:8080/"
        },
        "outputId": "cdb3a0bb-75b7-456b-99a7-496add506842"
      },
      "source": [
        "!git clone https://github.com/AhabbscienceStudioPak/siggraphasia2019_remastering"
      ],
      "execution_count": null,
      "outputs": [
        {
          "output_type": "stream",
          "text": [
            "Cloning into 'siggraphasia2019_remastering'...\n",
            "remote: Enumerating objects: 39, done.\u001b[K\n",
            "remote: Total 39 (delta 0), reused 0 (delta 0), pack-reused 39\u001b[K\n",
            "Unpacking objects: 100% (39/39), done.\n"
          ],
          "name": "stdout"
        }
      ]
    },
    {
      "cell_type": "code",
      "metadata": {
        "colab": {
          "base_uri": "https://localhost:8080/"
        },
        "id": "sVpLZcvaGfF2",
        "outputId": "a7345450-9591-4275-cb18-477fe7fcf6dc"
      },
      "source": [
        "%cd siggraphasia2019_remastering\r\n",
        "\r\n",
        "!bash download_model.sh"
      ],
      "execution_count": null,
      "outputs": [
        {
          "output_type": "stream",
          "text": [
            "/content/siggraphasia2019_remastering\n",
            "Downloading the RemasterNet (245MB)...\n",
            "--2020-12-24 19:26:52--  http://iizuka.cs.tsukuba.ac.jp/data/remasternet.pth.tar\n",
            "Resolving iizuka.cs.tsukuba.ac.jp (iizuka.cs.tsukuba.ac.jp)... 130.158.81.20\n",
            "Connecting to iizuka.cs.tsukuba.ac.jp (iizuka.cs.tsukuba.ac.jp)|130.158.81.20|:80... connected.\n",
            "HTTP request sent, awaiting response... 200 OK\n",
            "Length: 256796033 (245M) [application/x-tar]\n",
            "Saving to: ‘model/remasternet.pth.tar’\n",
            "\n",
            "model/remasternet.p 100%[===================>] 244.90M  18.7MB/s    in 14s     \n",
            "\n",
            "2020-12-24 19:27:07 (17.3 MB/s) - ‘model/remasternet.pth.tar’ saved [256796033/256796033]\n",
            "\n",
            "Checking integrity (md5sum)...\n",
            "Download finished successfully!\n"
          ],
          "name": "stdout"
        }
      ]
    },
    {
      "cell_type": "markdown",
      "metadata": {
        "id": "RxsuPEKDIMux"
      },
      "source": [
        "Create directory for video input and output + for coloured references"
      ]
    },
    {
      "cell_type": "code",
      "metadata": {
        "id": "GEhTidi0IKwM"
      },
      "source": [
        "!mkdir -p /content/siggraphasia2019_remastering/video_input\r\n",
        "!mkdir -p /content/siggraphasia2019_remastering/result\r\n",
        "!mkdir -p /content/siggraphasia2019_remastering/reference_images"
      ],
      "execution_count": null,
      "outputs": []
    },
    {
      "cell_type": "markdown",
      "metadata": {
        "id": "1y7Dzk1sG6SD"
      },
      "source": [
        "Add files from Google Drive"
      ]
    },
    {
      "cell_type": "code",
      "metadata": {
        "id": "dMc8lxF0G2nF"
      },
      "source": [
        "from google.colab import drive\r\n",
        "drive.mount('/content/gdrive')"
      ],
      "execution_count": null,
      "outputs": []
    },
    {
      "cell_type": "markdown",
      "metadata": {
        "id": "ufAR9xnjHBJK"
      },
      "source": [
        "Add video or reference images from YouTube"
      ]
    },
    {
      "cell_type": "code",
      "metadata": {
        "id": "uM_aW7j4FXIE",
        "colab": {
          "base_uri": "https://localhost:8080/",
          "height": 128
        },
        "outputId": "baa9e31c-0acf-4cc4-f219-86b218f59fcd"
      },
      "source": [
        "!pip install youtube_dl"
      ],
      "execution_count": null,
      "outputs": [
        {
          "output_type": "stream",
          "text": [
            "Collecting youtube_dl\n",
            "\u001b[?25l  Downloading https://files.pythonhosted.org/packages/59/5b/45dc2845a6203949cc70b16398e78c376178e90c757a5778caf0789ebd50/youtube_dl-2020.6.6-py2.py3-none-any.whl (1.8MB)\n",
            "\u001b[K     |████████████████████████████████| 1.8MB 6.9MB/s \n",
            "\u001b[?25hInstalling collected packages: youtube-dl\n",
            "Successfully installed youtube-dl-2020.6.6\n"
          ],
          "name": "stdout"
        }
      ]
    },
    {
      "cell_type": "code",
      "metadata": {
        "id": "hiGc2_eL8nrP"
      },
      "source": [
        "%cd /content/siggraphasia2019_remastering/video_input\n",
        "!youtube-dl -f 18 -o \"/content/siggraphasia2019_remastering/video_input/input.mp4\" https://www.youtube.com/watch?v=ljwTaMfORzs "
      ],
      "execution_count": null,
      "outputs": []
    },
    {
      "cell_type": "markdown",
      "metadata": {
        "id": "pP3Uu0gTKU5V"
      },
      "source": [
        "Upload your video directly to google colab"
      ]
    },
    {
      "cell_type": "code",
      "metadata": {
        "colab": {
          "resources": {
            "http://localhost:8080/nbextensions/google.colab/files.js": {
              "data": "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",
              "ok": true,
              "headers": [
                [
                  "content-type",
                  "application/javascript"
                ]
              ],
              "status": 200,
              "status_text": ""
            }
          },
          "base_uri": "https://localhost:8080/",
          "height": 106
        },
        "id": "8alnkO_2KdxU",
        "outputId": "a6ac246f-5847-4c63-e470-6f1c631edb2b"
      },
      "source": [
        "%cd /content/siggraphasia2019_remastering/video_input\r\n",
        "\r\n",
        "from google.colab import files\r\n",
        "uploaded = files.upload() \r\n",
        "for filename in uploaded.keys():\r\n",
        "  print('User uploaded file \"{name}\" with {length} bytes'.format(name=filename, length=len(uploaded[filename])))"
      ],
      "execution_count": null,
      "outputs": [
        {
          "output_type": "stream",
          "text": [
            "/content/siggraphasia2019_remastering/video_input\n"
          ],
          "name": "stdout"
        },
        {
          "output_type": "display_data",
          "data": {
            "text/html": [
              "\n",
              "     <input type=\"file\" id=\"files-24ce4d09-e4ac-43e9-8e18-5d29c10e0a5f\" name=\"files[]\" multiple disabled\n",
              "        style=\"border:none\" />\n",
              "     <output id=\"result-24ce4d09-e4ac-43e9-8e18-5d29c10e0a5f\">\n",
              "      Upload widget is only available when the cell has been executed in the\n",
              "      current browser session. Please rerun this cell to enable.\n",
              "      </output>\n",
              "      <script src=\"/nbextensions/google.colab/files.js\"></script> "
            ],
            "text/plain": [
              "<IPython.core.display.HTML object>"
            ]
          },
          "metadata": {
            "tags": []
          }
        },
        {
          "output_type": "stream",
          "text": [
            "Saving quaidcrop.mp4 to quaidcrop.mp4\n",
            "User uploaded file \"quaidcrop.mp4\" with 11685750 bytes\n"
          ],
          "name": "stdout"
        }
      ]
    },
    {
      "cell_type": "markdown",
      "metadata": {
        "id": "td9PEbd9KvSj"
      },
      "source": [
        "Upload your colored references directly to Colab\r\n",
        "\r\n"
      ]
    },
    {
      "cell_type": "code",
      "metadata": {
        "colab": {
          "resources": {
            "http://localhost:8080/nbextensions/google.colab/files.js": {
              "data": "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",
              "ok": true,
              "headers": [
                [
                  "content-type",
                  "application/javascript"
                ]
              ],
              "status": 200,
              "status_text": ""
            }
          },
          "base_uri": "https://localhost:8080/",
          "height": 463
        },
        "id": "0tienLX7KwYd",
        "outputId": "df2c87ed-d7cd-4237-c97e-e6625fa11ded"
      },
      "source": [
        "%cd /content/siggraphasia2019_remastering/reference_images\r\n",
        "\r\n",
        "from google.colab import files\r\n",
        "uploaded = files.upload() \r\n",
        "for filename in uploaded.keys():\r\n",
        "  print('User uploaded file \"{name}\" with {length} bytes'.format(name=filename, length=len(uploaded[filename])))"
      ],
      "execution_count": null,
      "outputs": [
        {
          "output_type": "stream",
          "text": [
            "/content/siggraphasia2019_remastering/reference_images\n"
          ],
          "name": "stdout"
        },
        {
          "output_type": "display_data",
          "data": {
            "text/html": [
              "\n",
              "     <input type=\"file\" id=\"files-0e903b7c-c1e2-4290-a2b5-c2f8b85edcf7\" name=\"files[]\" multiple disabled\n",
              "        style=\"border:none\" />\n",
              "     <output id=\"result-0e903b7c-c1e2-4290-a2b5-c2f8b85edcf7\">\n",
              "      Upload widget is only available when the cell has been executed in the\n",
              "      current browser session. Please rerun this cell to enable.\n",
              "      </output>\n",
              "      <script src=\"/nbextensions/google.colab/files.js\"></script> "
            ],
            "text/plain": [
              "<IPython.core.display.HTML object>"
            ]
          },
          "metadata": {
            "tags": []
          }
        },
        {
          "output_type": "stream",
          "text": [
            "Saving quaid00001.png to quaid00001.png\n",
            "Saving quaid00002.png to quaid00002.png\n",
            "Saving quaid00003.png to quaid00003.png\n",
            "Saving quaid00004.png to quaid00004.png\n",
            "Saving quaid00121.png to quaid00121.png\n",
            "Saving quaid00122.png to quaid00122.png\n",
            "Saving quaid00123.png to quaid00123.png\n",
            "Saving quaid00124.png to quaid00124.png\n",
            "User uploaded file \"quaid00001.png\" with 2342812 bytes\n",
            "User uploaded file \"quaid00002.png\" with 2455483 bytes\n",
            "User uploaded file \"quaid00003.png\" with 2427720 bytes\n",
            "User uploaded file \"quaid00004.png\" with 2464026 bytes\n",
            "User uploaded file \"quaid00121.png\" with 2382882 bytes\n",
            "User uploaded file \"quaid00122.png\" with 2340532 bytes\n",
            "User uploaded file \"quaid00123.png\" with 2381000 bytes\n",
            "User uploaded file \"quaid00124.png\" with 2364798 bytes\n"
          ],
          "name": "stdout"
        }
      ]
    },
    {
      "cell_type": "markdown",
      "metadata": {
        "id": "6HsnBTR2HklZ"
      },
      "source": [
        "If you have to change video aspect to match with the reference file (optional)\r\n",
        "\r\n"
      ]
    },
    {
      "cell_type": "code",
      "metadata": {
        "id": "qdK3gKAOZm60",
        "colab": {
          "base_uri": "https://localhost:8080/",
          "height": 219
        },
        "outputId": "30cd919e-e105-47f1-c4c4-617c4f81c839"
      },
      "source": [
        "%cd /content/siggraphasia2019_remastering/video_input\n",
        "!pip install moviepy\n",
        "from moviepy.video.io.ffmpeg_tools import ffmpeg_extract_subclip\n",
        "ffmpeg_extract_subclip(\"input.mp4\", 12, 67, targetname=\"input_crop.mp4\")"
      ],
      "execution_count": null,
      "outputs": [
        {
          "output_type": "stream",
          "text": [
            "Requirement already satisfied: moviepy in /usr/local/lib/python3.6/dist-packages (0.2.3.5)\n",
            "Requirement already satisfied: imageio<3.0,>=2.1.2 in /usr/local/lib/python3.6/dist-packages (from moviepy) (2.4.1)\n",
            "Requirement already satisfied: tqdm<5.0,>=4.11.2 in /usr/local/lib/python3.6/dist-packages (from moviepy) (4.41.1)\n",
            "Requirement already satisfied: decorator<5.0,>=4.0.2 in /usr/local/lib/python3.6/dist-packages (from moviepy) (4.4.2)\n",
            "Requirement already satisfied: numpy in /usr/local/lib/python3.6/dist-packages (from moviepy) (1.18.5)\n",
            "Requirement already satisfied: pillow in /usr/local/lib/python3.6/dist-packages (from imageio<3.0,>=2.1.2->moviepy) (7.0.0)\n",
            "\n",
            "[MoviePy] Running:\n",
            ">>> /usr/bin/ffmpeg -y -i quaidvideo.mp4 -ss 12.00 -t 55.00 -vcodec copy -acodec copy quaidcrop.mp4\n",
            "... command successful.\n"
          ],
          "name": "stdout"
        }
      ]
    },
    {
      "cell_type": "code",
      "metadata": {
        "colab": {
          "base_uri": "https://localhost:8080/"
        },
        "id": "T_9LkkXER0cb",
        "outputId": "28b4379a-45a5-4c33-a13d-74bcabd579b3"
      },
      "source": [
        "%cd /content/siggraphasia2019_remastering"
      ],
      "execution_count": null,
      "outputs": [
        {
          "output_type": "stream",
          "text": [
            "/content/siggraphasia2019_remastering\n"
          ],
          "name": "stdout"
        }
      ]
    },
    {
      "cell_type": "code",
      "metadata": {
        "id": "yscqNqU_skb3",
        "colab": {
          "base_uri": "https://localhost:8080/"
        },
        "outputId": "7307688b-31a1-427b-886b-f4f80a7309b3"
      },
      "source": [
        "\n",
        "%%writefile remaster.py\n",
        "\"\"\"\n",
        "   Copyright (C) <2019> <Satoshi Iizuka and Edgar Simo-Serra>\n",
        "   This work is licensed under the Creative Commons\n",
        "   Attribution-NonCommercial-ShareAlike 4.0 International License. To view a copy\n",
        "   of this license, visit http://creativecommons.org/licenses/by-nc-sa/4.0/ or\n",
        "   send a letter to Creative Commons, PO Box 1866, Mountain View, CA 94042, USA.\n",
        "   Satoshi Iizuka, University of Tsukuba\n",
        "   iizuka@aoni.waseda.jp, http://iizuka.cs.tsukuba.ac.jp/index_eng.html\n",
        "   Edgar Simo-Serra, Waseda University\n",
        "   ess@waseda.jp, https://esslab.jp/~ess/\n",
        "\"\"\"\n",
        "\n",
        "import torch\n",
        "import torch.nn as nn\n",
        "from torchvision import transforms\n",
        "from torchvision.utils import save_image\n",
        "import cv2\n",
        "from PIL import Image\n",
        "import numpy as np\n",
        "from tqdm import tqdm\n",
        "import os\n",
        "import argparse\n",
        "import subprocess\n",
        "import utils\n",
        "\n",
        "parser = argparse.ArgumentParser(description='Remastering')\n",
        "parser.add_argument('--input',   type=str,   default='none', help='Input video')\n",
        "parser.add_argument('--reference_dir',  type=str, default='none', help='Path to the reference image directory')\n",
        "parser.add_argument('--disable_colorization', action='store_true', default=False, help='Remaster without colorization')\n",
        "parser.add_argument('--gpu',       action='store_true', default=False, help='Use GPU')\n",
        "parser.add_argument('--mindim',     type=int,   default='320',    help='Length of minimum image edges')\n",
        "opt = parser.parse_args()\n",
        "\n",
        "device = torch.device('cuda:0' if opt.gpu else 'cpu')\n",
        "\n",
        "# Load remaster network\n",
        "modelR = __import__( 'model.remasternet', fromlist=['NetworkR'] ).NetworkR()\n",
        "state_dict = torch.load( 'model/remasternet.pth.tar' )\n",
        "modelR.load_state_dict( state_dict['modelR'] )\n",
        "modelR = modelR.to(device)\n",
        "modelR.eval()\n",
        "if not opt.disable_colorization:\n",
        "   modelC = __import__( 'model.remasternet', fromlist=['NetworkC'] ).NetworkC()\n",
        "   modelC.load_state_dict( state_dict['modelC'] )\n",
        "   modelC = modelC.to(device)\n",
        "   modelC.eval()\n",
        "\n",
        "print('Processing %s...'%os.path.basename(opt.input))\n",
        "\n",
        "outputdir = 'tmp/'\n",
        "outputdir_in = outputdir+'input/'\n",
        "os.makedirs( outputdir_in, exist_ok=True )\n",
        "outputdir_out = outputdir+'siggraphasia2019_remastering/'\n",
        "os.makedirs( outputdir_out, exist_ok=True )\n",
        "\n",
        "# Prepare reference images\n",
        "if not opt.disable_colorization:\n",
        "   if opt.reference_dir!='none':\n",
        "      import glob\n",
        "      ext_list = ['png','jpg','bmp']\n",
        "      reference_files = []\n",
        "      for ext in ext_list:\n",
        "         reference_files += glob.glob( opt.reference_dir+'/*.'+ext, recursive=True )\n",
        "      aspect_mean = 0\n",
        "      minedge_dim = 256\n",
        "      refs = []\n",
        "      for v in reference_files:\n",
        "         refimg = Image.open( v ).convert('RGB')\n",
        "         w, h = refimg.size\n",
        "         aspect_mean += w/h\n",
        "         refs.append( refimg )\n",
        "      aspect_mean /= len(reference_files)\n",
        "      target_w = int(256*aspect_mean) if aspect_mean>1 else 256\n",
        "      target_h = 256 if aspect_mean>=1 else int(256/aspect_mean)\n",
        "      refimgs = torch.FloatTensor(len(reference_files), 3, target_h, target_w)\n",
        "      for i, v in enumerate(refs):\n",
        "         refimg = utils.addMergin( v, target_w=target_w, target_h=target_h )\n",
        "         refimgs[i] = transforms.ToTensor()( refimg )\n",
        "      refimgs = refimgs.view(1, refimgs.size(0), refimgs.size(1), refimgs.size(2), refimgs.size(3)).to( device )\n",
        "\n",
        "# Load video\n",
        "cap = cv2.VideoCapture( opt.input )\n",
        "nframes = int(cap.get(cv2.CAP_PROP_FRAME_COUNT)) # cv2.CAP_PROP_FRAME_COUNT: 7\n",
        "v_w = cap.get(cv2.CAP_PROP_FRAME_WIDTH)\n",
        "v_h = cap.get(cv2.CAP_PROP_FRAME_HEIGHT)\n",
        "minwh = min(v_w,v_h)\n",
        "scale = 1\n",
        "if minwh != opt.mindim:\n",
        "   scale = opt.mindim / minwh\n",
        "t_w = round(v_w*scale/16.)*16\n",
        "t_h = round(v_h*scale/16.)*16\n",
        "fps = cap.get(cv2.CAP_PROP_FPS)\n",
        "pbar = tqdm(total=nframes)\n",
        "block = 5\n",
        "\n",
        "# Process \n",
        "with torch.no_grad():\n",
        "   it = 0\n",
        "   while True:\n",
        "      frame_pos = it*block\n",
        "      if frame_pos >= nframes:\n",
        "         break\n",
        "      cap.set(cv2.CAP_PROP_POS_FRAMES, frame_pos)\n",
        "      if block >= nframes-frame_pos:\n",
        "         proc_g = nframes-frame_pos\n",
        "      else:\n",
        "         proc_g = block\n",
        "\n",
        "      input = None\n",
        "      gtC = None\n",
        "      for i in range(proc_g):\n",
        "         index = frame_pos + i\n",
        "         _, frame = cap.read()\n",
        "         frame = cv2.resize(frame, (t_w, t_h))\n",
        "         nchannels = frame.shape[2]\n",
        "         if nchannels == 1 or not opt.disable_colorization:\n",
        "            frame_l = cv2.cvtColor(frame, cv2.COLOR_RGB2GRAY)\n",
        "            cv2.imwrite(outputdir_in+'%07d.png'%index, frame_l)\n",
        "            frame_l = torch.from_numpy(frame_l).view( frame_l.shape[0], frame_l.shape[1], 1 )\n",
        "            frame_l = frame_l.permute(2, 0, 1).float() # HWC to CHW\n",
        "            frame_l /= 255.\n",
        "            frame_l = frame_l.view(1, frame_l.size(0), 1, frame_l.size(1), frame_l.size(2))\n",
        "         elif nchannels == 3:\n",
        "            cv2.imwrite(outputdir_in+'%07d.png'%index, frame)\n",
        "            frame = frame[:,:,::-1] ## BGR -> RGB\n",
        "            frame_l, frame_ab = utils.convertRGB2LABTensor( frame )\n",
        "            frame_l = frame_l.view(1, frame_l.size(0), 1, frame_l.size(1), frame_l.size(2))\n",
        "            frame_ab = frame_ab.view(1, frame_ab.size(0), 1, frame_ab.size(1), frame_ab.size(2))\n",
        "\n",
        "         input = frame_l if i==0 else torch.cat( (input, frame_l), 2 )\n",
        "         if nchannels==3 and opt.disable_colorization:\n",
        "            gtC = frame_ab if i==0 else torch.cat( (gtC, frame_ab), 2 )\n",
        "      \n",
        "      input = input.to( device )\n",
        "\n",
        "      # Perform restoration\n",
        "      output_l = modelR( input ) # [B, C, T, H, W]\n",
        "\n",
        "      # Save restoration output without colorization when using the option [--disable_colorization]\n",
        "      if opt.disable_colorization:\n",
        "         for i in range( proc_g ):\n",
        "            index = frame_pos + i\n",
        "            if nchannels==3:\n",
        "               out_l = output_l.detach()[0,:,i].cpu()\n",
        "               out_ab = gtC[0,:,i].cpu()\n",
        "               out = torch.cat((out_l, out_ab),dim=0).detach().numpy().transpose((1, 2, 0))\n",
        "               out = Image.fromarray( np.uint8( utils.convertLAB2RGB( out )*255 ) )\n",
        "               out.save( outputdir_out+'%07d.png'%(index) )\n",
        "            else:\n",
        "               save_image( output_l.detach()[0,:,i], outputdir_out+'%07d.png'%(index), nrow=1 )\n",
        "      # Perform colorization\n",
        "      else:\n",
        "         if opt.reference_dir=='none':\n",
        "            output_ab = modelC( output_l )\n",
        "         else:\n",
        "            output_ab = modelC( output_l, refimgs )\n",
        "         output_l = output_l.detach().cpu()\n",
        "         output_ab = output_ab.detach().cpu()\n",
        "         \n",
        "         # Save output frames of restoration with colorization\n",
        "         for i in range( proc_g ):\n",
        "            index = frame_pos + i\n",
        "            out_l = output_l[0,:,i,:,:]\n",
        "            out_c = output_ab[0,:,i,:,:]\n",
        "            output = torch.cat((out_l, out_c), dim=0).numpy().transpose((1, 2, 0))\n",
        "            output = Image.fromarray( np.uint8( utils.convertLAB2RGB( output )*255 ) )\n",
        "            output.save( outputdir_out+'%07d.png'%index )\n",
        "\n",
        "      it = it + 1\n",
        "      pbar.update(proc_g)\n",
        "   \n",
        "   # Save result videos\n",
        "   outfile = opt.input.split('/')[-1].split('.')[0]\n",
        "   cmd = 'ffmpeg -y -r %d -i %s%%07d.png -vcodec libx264 -pix_fmt yuv420p -r %d %s_in.mp4' % (fps, outputdir_in, fps, outfile )\n",
        "   subprocess.call( cmd, shell=True )\n",
        "   cmd = 'ffmpeg -y -r %d -i %s%%07d.png -vcodec libx264 -pix_fmt yuv420p -r %d %s_out.mp4' % (fps, outputdir_out, fps, outfile )\n",
        "   subprocess.call( cmd, shell=True )\n",
        "   cmd = 'ffmpeg -y -i %s_in.mp4 -vf \"[in] pad=2.01*iw:ih [left];movie=%s_out.mp4[right];[left][right] overlay=main_w/2:0,scale=2*iw/2:2*ih/2[out]\" %s_comp.mp4' % ( outfile, outfile, outfile )\n",
        "   subprocess.call( cmd, shell=True )\n",
        "\n",
        "   import shutil\n",
        "   shutil.rmtree(outputdir)\n",
        "   cap.release()\n",
        "   pbar.close()"
      ],
      "execution_count": null,
      "outputs": [
        {
          "output_type": "stream",
          "text": [
            "Overwriting remaster.py\n"
          ],
          "name": "stdout"
        }
      ]
    },
    {
      "cell_type": "code",
      "metadata": {
        "id": "hVlWkuVTirmh",
        "colab": {
          "base_uri": "https://localhost:8080/"
        },
        "outputId": "ae655548-b8eb-4018-902d-cd42c37f6a10"
      },
      "source": [
        "%cd /content/siggraphasia2019_remastering\n",
        "!python remaster.py --input /content/siggraphasia2019_remastering/video_input/quaidcrop.mp4 --reference_dir /content/siggraphasia2019_remastering/reference_images --gpu"
      ],
      "execution_count": null,
      "outputs": [
        {
          "output_type": "stream",
          "text": [
            "/content/siggraphasia2019_remastering\n",
            "Processing quaidcrop.mp4...\n",
            "100% 1363/1363 [09:35<00:00,  2.64it/s]ffmpeg version 3.4.8-0ubuntu0.2 Copyright (c) 2000-2020 the FFmpeg developers\n",
            "  built with gcc 7 (Ubuntu 7.5.0-3ubuntu1~18.04)\n",
            "  configuration: --prefix=/usr --extra-version=0ubuntu0.2 --toolchain=hardened --libdir=/usr/lib/x86_64-linux-gnu --incdir=/usr/include/x86_64-linux-gnu --enable-gpl --disable-stripping --enable-avresample --enable-avisynth --enable-gnutls --enable-ladspa --enable-libass --enable-libbluray --enable-libbs2b --enable-libcaca --enable-libcdio --enable-libflite --enable-libfontconfig --enable-libfreetype --enable-libfribidi --enable-libgme --enable-libgsm --enable-libmp3lame --enable-libmysofa --enable-libopenjpeg --enable-libopenmpt --enable-libopus --enable-libpulse --enable-librubberband --enable-librsvg --enable-libshine --enable-libsnappy --enable-libsoxr --enable-libspeex --enable-libssh --enable-libtheora --enable-libtwolame --enable-libvorbis --enable-libvpx --enable-libwavpack --enable-libwebp --enable-libx265 --enable-libxml2 --enable-libxvid --enable-libzmq --enable-libzvbi --enable-omx --enable-openal --enable-opengl --enable-sdl2 --enable-libdc1394 --enable-libdrm --enable-libiec61883 --enable-chromaprint --enable-frei0r --enable-libopencv --enable-libx264 --enable-shared\n",
            "  libavutil      55. 78.100 / 55. 78.100\n",
            "  libavcodec     57.107.100 / 57.107.100\n",
            "  libavformat    57. 83.100 / 57. 83.100\n",
            "  libavdevice    57. 10.100 / 57. 10.100\n",
            "  libavfilter     6.107.100 /  6.107.100\n",
            "  libavresample   3.  7.  0 /  3.  7.  0\n",
            "  libswscale      4.  8.100 /  4.  8.100\n",
            "  libswresample   2.  9.100 /  2.  9.100\n",
            "  libpostproc    54.  7.100 / 54.  7.100\n",
            "Input #0, image2, from 'tmp/input/%07d.png':\n",
            "  Duration: 00:00:54.52, start: 0.000000, bitrate: N/A\n",
            "    Stream #0:0: Video: png, gray(pc), 576x320, 25 fps, 25 tbr, 25 tbn, 25 tbc\n",
            "Stream mapping:\n",
            "  Stream #0:0 -> #0:0 (png (native) -> h264 (libx264))\n",
            "Press [q] to stop, [?] for help\n",
            "\u001b[1;36m[libx264 @ 0x55560724fe00] \u001b[0musing cpu capabilities: MMX2 SSE2Fast SSSE3 SSE4.2 AVX FMA3 BMI2 AVX2\n",
            "\u001b[1;36m[libx264 @ 0x55560724fe00] \u001b[0mprofile High, level 2.1\n",
            "\u001b[1;36m[libx264 @ 0x55560724fe00] \u001b[0m264 - core 152 r2854 e9a5903 - H.264/MPEG-4 AVC codec - Copyleft 2003-2017 - http://www.videolan.org/x264.html - options: cabac=1 ref=3 deblock=1:0:0 analyse=0x3:0x113 me=hex subme=7 psy=1 psy_rd=1.00:0.00 mixed_ref=1 me_range=16 chroma_me=1 trellis=1 8x8dct=1 cqm=0 deadzone=21,11 fast_pskip=1 chroma_qp_offset=-2 threads=3 lookahead_threads=1 sliced_threads=0 nr=0 decimate=1 interlaced=0 bluray_compat=0 constrained_intra=0 bframes=3 b_pyramid=2 b_adapt=1 b_bias=0 direct=1 weightb=1 open_gop=0 weightp=2 keyint=250 keyint_min=25 scenecut=40 intra_refresh=0 rc_lookahead=40 rc=crf mbtree=1 crf=23.0 qcomp=0.60 qpmin=0 qpmax=69 qpstep=4 ip_ratio=1.40 aq=1:1.00\n",
            "Output #0, mp4, to 'quaidcrop_in.mp4':\n",
            "  Metadata:\n",
            "    encoder         : Lavf57.83.100\n",
            "    Stream #0:0: Video: h264 (libx264) (avc1 / 0x31637661), yuv420p, 576x320, q=-1--1, 25 fps, 12800 tbn, 25 tbc\n",
            "    Metadata:\n",
            "      encoder         : Lavc57.107.100 libx264\n",
            "    Side data:\n",
            "      cpb: bitrate max/min/avg: 0/0/0 buffer size: 0 vbv_delay: -1\n",
            "frame= 1363 fps= 98 q=-1.0 Lsize=    2447kB time=00:00:54.40 bitrate= 368.4kbits/s speed=3.91x    \n",
            "video:2430kB audio:0kB subtitle:0kB other streams:0kB global headers:0kB muxing overhead: 0.679777%\n",
            "\u001b[1;36m[libx264 @ 0x55560724fe00] \u001b[0mframe I:8     Avg QP:22.37  size: 16631\n",
            "\u001b[1;36m[libx264 @ 0x55560724fe00] \u001b[0mframe P:376   Avg QP:24.10  size:  4125\n",
            "\u001b[1;36m[libx264 @ 0x55560724fe00] \u001b[0mframe B:979   Avg QP:26.78  size:   821\n",
            "\u001b[1;36m[libx264 @ 0x55560724fe00] \u001b[0mconsecutive B-frames:  2.9%  2.8%  4.0% 90.4%\n",
            "\u001b[1;36m[libx264 @ 0x55560724fe00] \u001b[0mmb I  I16..4:  5.5% 73.1% 21.4%\n",
            "\u001b[1;36m[libx264 @ 0x55560724fe00] \u001b[0mmb P  I16..4:  1.4% 10.0%  0.9%  P16..4: 32.3% 16.8%  9.3%  0.0%  0.0%    skip:29.2%\n",
            "\u001b[1;36m[libx264 @ 0x55560724fe00] \u001b[0mmb B  I16..4:  0.0%  0.2%  0.0%  B16..8: 30.8%  5.0%  0.7%  direct: 1.4%  skip:61.8%  L0:41.8% L1:47.9% BI:10.3%\n",
            "\u001b[1;36m[libx264 @ 0x55560724fe00] \u001b[0m8x8 transform intra:79.6% inter:74.5%\n",
            "\u001b[1;36m[libx264 @ 0x55560724fe00] \u001b[0mcoded y,uvDC,uvAC intra: 30.5% 0.0% 0.0% inter: 15.7% 0.0% 0.0%\n",
            "\u001b[1;36m[libx264 @ 0x55560724fe00] \u001b[0mi16 v,h,dc,p: 70% 15%  7%  8%\n",
            "\u001b[1;36m[libx264 @ 0x55560724fe00] \u001b[0mi8 v,h,dc,ddl,ddr,vr,hd,vl,hu: 17%  8% 54%  5%  3%  3%  3%  3%  4%\n",
            "\u001b[1;36m[libx264 @ 0x55560724fe00] \u001b[0mi4 v,h,dc,ddl,ddr,vr,hd,vl,hu: 26% 17% 17%  6%  8%  8%  7%  7%  5%\n",
            "\u001b[1;36m[libx264 @ 0x55560724fe00] \u001b[0mi8c dc,h,v,p: 100%  0%  0%  0%\n",
            "\u001b[1;36m[libx264 @ 0x55560724fe00] \u001b[0mWeighted P-Frames: Y:40.4% UV:0.0%\n",
            "\u001b[1;36m[libx264 @ 0x55560724fe00] \u001b[0mref P L0: 52.2% 24.2% 15.8%  6.1%  1.7%\n",
            "\u001b[1;36m[libx264 @ 0x55560724fe00] \u001b[0mref B L0: 87.8%  9.6%  2.6%\n",
            "\u001b[1;36m[libx264 @ 0x55560724fe00] \u001b[0mref B L1: 94.9%  5.1%\n",
            "\u001b[1;36m[libx264 @ 0x55560724fe00] \u001b[0mkb/s:365.02\n",
            "ffmpeg version 3.4.8-0ubuntu0.2 Copyright (c) 2000-2020 the FFmpeg developers\n",
            "  built with gcc 7 (Ubuntu 7.5.0-3ubuntu1~18.04)\n",
            "  configuration: --prefix=/usr --extra-version=0ubuntu0.2 --toolchain=hardened --libdir=/usr/lib/x86_64-linux-gnu --incdir=/usr/include/x86_64-linux-gnu --enable-gpl --disable-stripping --enable-avresample --enable-avisynth --enable-gnutls --enable-ladspa --enable-libass --enable-libbluray --enable-libbs2b --enable-libcaca --enable-libcdio --enable-libflite --enable-libfontconfig --enable-libfreetype --enable-libfribidi --enable-libgme --enable-libgsm --enable-libmp3lame --enable-libmysofa --enable-libopenjpeg --enable-libopenmpt --enable-libopus --enable-libpulse --enable-librubberband --enable-librsvg --enable-libshine --enable-libsnappy --enable-libsoxr --enable-libspeex --enable-libssh --enable-libtheora --enable-libtwolame --enable-libvorbis --enable-libvpx --enable-libwavpack --enable-libwebp --enable-libx265 --enable-libxml2 --enable-libxvid --enable-libzmq --enable-libzvbi --enable-omx --enable-openal --enable-opengl --enable-sdl2 --enable-libdc1394 --enable-libdrm --enable-libiec61883 --enable-chromaprint --enable-frei0r --enable-libopencv --enable-libx264 --enable-shared\n",
            "  libavutil      55. 78.100 / 55. 78.100\n",
            "  libavcodec     57.107.100 / 57.107.100\n",
            "  libavformat    57. 83.100 / 57. 83.100\n",
            "  libavdevice    57. 10.100 / 57. 10.100\n",
            "  libavfilter     6.107.100 /  6.107.100\n",
            "  libavresample   3.  7.  0 /  3.  7.  0\n",
            "  libswscale      4.  8.100 /  4.  8.100\n",
            "  libswresample   2.  9.100 /  2.  9.100\n",
            "  libpostproc    54.  7.100 / 54.  7.100\n",
            "Input #0, image2, from 'tmp/siggraphasia2019_remastering/%07d.png':\n",
            "  Duration: 00:00:54.52, start: 0.000000, bitrate: N/A\n",
            "    Stream #0:0: Video: png, rgb24(pc), 576x320, 25 fps, 25 tbr, 25 tbn, 25 tbc\n",
            "Stream mapping:\n",
            "  Stream #0:0 -> #0:0 (png (native) -> h264 (libx264))\n",
            "Press [q] to stop, [?] for help\n",
            "\u001b[1;36m[libx264 @ 0x55ebe6477e00] \u001b[0musing cpu capabilities: MMX2 SSE2Fast SSSE3 SSE4.2 AVX FMA3 BMI2 AVX2\n",
            "\u001b[1;36m[libx264 @ 0x55ebe6477e00] \u001b[0mprofile High, level 2.1\n",
            "\u001b[1;36m[libx264 @ 0x55ebe6477e00] \u001b[0m264 - core 152 r2854 e9a5903 - H.264/MPEG-4 AVC codec - Copyleft 2003-2017 - http://www.videolan.org/x264.html - options: cabac=1 ref=3 deblock=1:0:0 analyse=0x3:0x113 me=hex subme=7 psy=1 psy_rd=1.00:0.00 mixed_ref=1 me_range=16 chroma_me=1 trellis=1 8x8dct=1 cqm=0 deadzone=21,11 fast_pskip=1 chroma_qp_offset=-2 threads=3 lookahead_threads=1 sliced_threads=0 nr=0 decimate=1 interlaced=0 bluray_compat=0 constrained_intra=0 bframes=3 b_pyramid=2 b_adapt=1 b_bias=0 direct=1 weightb=1 open_gop=0 weightp=2 keyint=250 keyint_min=25 scenecut=40 intra_refresh=0 rc_lookahead=40 rc=crf mbtree=1 crf=23.0 qcomp=0.60 qpmin=0 qpmax=69 qpstep=4 ip_ratio=1.40 aq=1:1.00\n",
            "Output #0, mp4, to 'quaidcrop_out.mp4':\n",
            "  Metadata:\n",
            "    encoder         : Lavf57.83.100\n",
            "    Stream #0:0: Video: h264 (libx264) (avc1 / 0x31637661), yuv420p, 576x320, q=-1--1, 25 fps, 12800 tbn, 25 tbc\n",
            "    Metadata:\n",
            "      encoder         : Lavc57.107.100 libx264\n",
            "    Side data:\n",
            "      cpb: bitrate max/min/avg: 0/0/0 buffer size: 0 vbv_delay: -1\n",
            "frame= 1363 fps= 74 q=-1.0 Lsize=    2733kB time=00:00:54.40 bitrate= 411.6kbits/s speed=2.94x    \n",
            "video:2717kB audio:0kB subtitle:0kB other streams:0kB global headers:0kB muxing overhead: 0.612671%\n",
            "\u001b[1;36m[libx264 @ 0x55ebe6477e00] \u001b[0mframe I:8     Avg QP:21.50  size: 17128\n",
            "\u001b[1;36m[libx264 @ 0x55ebe6477e00] \u001b[0mframe P:371   Avg QP:23.81  size:  4529\n",
            "\u001b[1;36m[libx264 @ 0x55ebe6477e00] \u001b[0mframe B:984   Avg QP:26.84  size:   980\n",
            "\u001b[1;36m[libx264 @ 0x55ebe6477e00] \u001b[0mconsecutive B-frames:  2.2%  3.5%  3.3% 91.0%\n",
            "\u001b[1;36m[libx264 @ 0x55ebe6477e00] \u001b[0mmb I  I16..4: 11.0% 67.0% 22.0%\n",
            "\u001b[1;36m[libx264 @ 0x55ebe6477e00] \u001b[0mmb P  I16..4:  3.0% 18.1%  1.1%  P16..4: 35.7% 16.2%  9.2%  0.0%  0.0%    skip:16.6%\n",
            "\u001b[1;36m[libx264 @ 0x55ebe6477e00] \u001b[0mmb B  I16..4:  0.9%  4.1%  0.0%  B16..8: 34.3%  5.2%  0.9%  direct: 2.6%  skip:51.9%  L0:42.8% L1:47.3% BI: 9.9%\n",
            "\u001b[1;36m[libx264 @ 0x55ebe6477e00] \u001b[0m8x8 transform intra:80.4% inter:74.8%\n",
            "\u001b[1;36m[libx264 @ 0x55ebe6477e00] \u001b[0mcoded y,uvDC,uvAC intra: 14.3% 12.6% 2.8% inter: 16.5% 13.4% 0.0%\n",
            "\u001b[1;36m[libx264 @ 0x55ebe6477e00] \u001b[0mi16 v,h,dc,p: 62% 27%  3%  8%\n",
            "\u001b[1;36m[libx264 @ 0x55ebe6477e00] \u001b[0mi8 v,h,dc,ddl,ddr,vr,hd,vl,hu: 49%  8% 34%  2%  1%  1%  2%  1%  2%\n",
            "\u001b[1;36m[libx264 @ 0x55ebe6477e00] \u001b[0mi4 v,h,dc,ddl,ddr,vr,hd,vl,hu: 25% 18% 16%  6%  8%  7%  8%  7%  6%\n",
            "\u001b[1;36m[libx264 @ 0x55ebe6477e00] \u001b[0mi8c dc,h,v,p: 85%  5%  9%  1%\n",
            "\u001b[1;36m[libx264 @ 0x55ebe6477e00] \u001b[0mWeighted P-Frames: Y:47.7% UV:30.2%\n",
            "\u001b[1;36m[libx264 @ 0x55ebe6477e00] \u001b[0mref P L0: 48.4% 23.3% 17.6%  8.3%  2.4%\n",
            "\u001b[1;36m[libx264 @ 0x55ebe6477e00] \u001b[0mref B L0: 82.7% 10.7%  6.5%\n",
            "\u001b[1;36m[libx264 @ 0x55ebe6477e00] \u001b[0mref B L1: 96.6%  3.4%\n",
            "\u001b[1;36m[libx264 @ 0x55ebe6477e00] \u001b[0mkb/s:408.08\n",
            "ffmpeg version 3.4.8-0ubuntu0.2 Copyright (c) 2000-2020 the FFmpeg developers\n",
            "  built with gcc 7 (Ubuntu 7.5.0-3ubuntu1~18.04)\n",
            "  configuration: --prefix=/usr --extra-version=0ubuntu0.2 --toolchain=hardened --libdir=/usr/lib/x86_64-linux-gnu --incdir=/usr/include/x86_64-linux-gnu --enable-gpl --disable-stripping --enable-avresample --enable-avisynth --enable-gnutls --enable-ladspa --enable-libass --enable-libbluray --enable-libbs2b --enable-libcaca --enable-libcdio --enable-libflite --enable-libfontconfig --enable-libfreetype --enable-libfribidi --enable-libgme --enable-libgsm --enable-libmp3lame --enable-libmysofa --enable-libopenjpeg --enable-libopenmpt --enable-libopus --enable-libpulse --enable-librubberband --enable-librsvg --enable-libshine --enable-libsnappy --enable-libsoxr --enable-libspeex --enable-libssh --enable-libtheora --enable-libtwolame --enable-libvorbis --enable-libvpx --enable-libwavpack --enable-libwebp --enable-libx265 --enable-libxml2 --enable-libxvid --enable-libzmq --enable-libzvbi --enable-omx --enable-openal --enable-opengl --enable-sdl2 --enable-libdc1394 --enable-libdrm --enable-libiec61883 --enable-chromaprint --enable-frei0r --enable-libopencv --enable-libx264 --enable-shared\n",
            "  libavutil      55. 78.100 / 55. 78.100\n",
            "  libavcodec     57.107.100 / 57.107.100\n",
            "  libavformat    57. 83.100 / 57. 83.100\n",
            "  libavdevice    57. 10.100 / 57. 10.100\n",
            "  libavfilter     6.107.100 /  6.107.100\n",
            "  libavresample   3.  7.  0 /  3.  7.  0\n",
            "  libswscale      4.  8.100 /  4.  8.100\n",
            "  libswresample   2.  9.100 /  2.  9.100\n",
            "  libpostproc    54.  7.100 / 54.  7.100\n",
            "Input #0, mov,mp4,m4a,3gp,3g2,mj2, from 'quaidcrop_in.mp4':\n",
            "  Metadata:\n",
            "    major_brand     : isom\n",
            "    minor_version   : 512\n",
            "    compatible_brands: isomiso2avc1mp41\n",
            "    encoder         : Lavf57.83.100\n",
            "  Duration: 00:00:54.52, start: 0.000000, bitrate: 367 kb/s\n",
            "    Stream #0:0(und): Video: h264 (High) (avc1 / 0x31637661), yuv420p, 576x320, 365 kb/s, 25 fps, 25 tbr, 12800 tbn, 50 tbc (default)\n",
            "    Metadata:\n",
            "      handler_name    : VideoHandler\n",
            "Stream mapping:\n",
            "  Stream #0:0 -> #0:0 (h264 (native) -> h264 (libx264))\n",
            "Press [q] to stop, [?] for help\n",
            "\u001b[1;36m[libx264 @ 0x55e79f2bcf00] \u001b[0musing cpu capabilities: MMX2 SSE2Fast SSSE3 SSE4.2 AVX FMA3 BMI2 AVX2\n",
            "\u001b[1;36m[libx264 @ 0x55e79f2bcf00] \u001b[0mprofile High, level 3.0\n",
            "\u001b[1;36m[libx264 @ 0x55e79f2bcf00] \u001b[0m264 - core 152 r2854 e9a5903 - H.264/MPEG-4 AVC codec - Copyleft 2003-2017 - http://www.videolan.org/x264.html - options: cabac=1 ref=3 deblock=1:0:0 analyse=0x3:0x113 me=hex subme=7 psy=1 psy_rd=1.00:0.00 mixed_ref=1 me_range=16 chroma_me=1 trellis=1 8x8dct=1 cqm=0 deadzone=21,11 fast_pskip=1 chroma_qp_offset=-2 threads=3 lookahead_threads=1 sliced_threads=0 nr=0 decimate=1 interlaced=0 bluray_compat=0 constrained_intra=0 bframes=3 b_pyramid=2 b_adapt=1 b_bias=0 direct=1 weightb=1 open_gop=0 weightp=2 keyint=250 keyint_min=25 scenecut=40 intra_refresh=0 rc_lookahead=40 rc=crf mbtree=1 crf=23.0 qcomp=0.60 qpmin=0 qpmax=69 qpstep=4 ip_ratio=1.40 aq=1:1.00\n",
            "Output #0, mp4, to 'quaidcrop_comp.mp4':\n",
            "  Metadata:\n",
            "    major_brand     : isom\n",
            "    minor_version   : 512\n",
            "    compatible_brands: isomiso2avc1mp41\n",
            "    encoder         : Lavf57.83.100\n",
            "    Stream #0:0(und): Video: h264 (libx264) (avc1 / 0x31637661), yuv420p, 1156x320, q=-1--1, 25 fps, 12800 tbn, 25 tbc (default)\n",
            "    Metadata:\n",
            "      handler_name    : VideoHandler\n",
            "      encoder         : Lavc57.107.100 libx264\n",
            "    Side data:\n",
            "      cpb: bitrate max/min/avg: 0/0/0 buffer size: 0 vbv_delay: -1\n",
            "\u001b[1;32m[Parsed_movie_1 @ 0x55e79f2952c0] \u001b[0m\u001b[0;33mEOF timestamp not reliable\n",
            "\u001b[0mframe= 1363 fps= 49 q=-1.0 Lsize=    4778kB time=00:00:54.40 bitrate= 719.5kbits/s speed=1.97x    \n",
            "video:4762kB audio:0kB subtitle:0kB other streams:0kB global headers:0kB muxing overhead: 0.348074%\n",
            "\u001b[1;36m[libx264 @ 0x55e79f2bcf00] \u001b[0mframe I:8     Avg QP:21.12  size: 33848\n",
            "\u001b[1;36m[libx264 @ 0x55e79f2bcf00] \u001b[0mframe P:390   Avg QP:23.27  size:  7780\n",
            "\u001b[1;36m[libx264 @ 0x55e79f2bcf00] \u001b[0mframe B:965   Avg QP:26.83  size:  1627\n",
            "\u001b[1;36m[libx264 @ 0x55e79f2bcf00] \u001b[0mconsecutive B-frames:  3.4%  5.4%  3.7% 87.5%\n",
            "\u001b[1;36m[libx264 @ 0x55e79f2bcf00] \u001b[0mmb I  I16..4:  6.8% 73.0% 20.2%\n",
            "\u001b[1;36m[libx264 @ 0x55e79f2bcf00] \u001b[0mmb P  I16..4:  2.5% 14.5%  1.0%  P16..4: 33.3% 15.3%  8.1%  0.0%  0.0%    skip:25.3%\n",
            "\u001b[1;36m[libx264 @ 0x55e79f2bcf00] \u001b[0mmb B  I16..4:  0.5%  1.9%  0.0%  B16..8: 33.6%  4.2%  0.7%  direct: 1.5%  skip:57.5%  L0:43.6% L1:47.1% BI: 9.3%\n",
            "\u001b[1;36m[libx264 @ 0x55e79f2bcf00] \u001b[0m8x8 transform intra:79.3% inter:74.6%\n",
            "\u001b[1;36m[libx264 @ 0x55e79f2bcf00] \u001b[0mcoded y,uvDC,uvAC intra: 18.6% 8.6% 1.7% inter: 14.1% 5.8% 0.0%\n",
            "\u001b[1;36m[libx264 @ 0x55e79f2bcf00] \u001b[0mi16 v,h,dc,p: 64% 22%  5%  8%\n",
            "\u001b[1;36m[libx264 @ 0x55e79f2bcf00] \u001b[0mi8 v,h,dc,ddl,ddr,vr,hd,vl,hu: 38%  9% 41%  2%  2%  2%  2%  2%  2%\n",
            "\u001b[1;36m[libx264 @ 0x55e79f2bcf00] \u001b[0mi4 v,h,dc,ddl,ddr,vr,hd,vl,hu: 30% 16% 17%  5%  7%  7%  7%  6%  5%\n",
            "\u001b[1;36m[libx264 @ 0x55e79f2bcf00] \u001b[0mi8c dc,h,v,p: 89%  4%  6%  1%\n",
            "\u001b[1;36m[libx264 @ 0x55e79f2bcf00] \u001b[0mWeighted P-Frames: Y:34.1% UV:16.9%\n",
            "\u001b[1;36m[libx264 @ 0x55e79f2bcf00] \u001b[0mref P L0: 51.9% 25.1% 16.1%  5.7%  1.3%\n",
            "\u001b[1;36m[libx264 @ 0x55e79f2bcf00] \u001b[0mref B L0: 85.5% 10.0%  4.6%\n",
            "\u001b[1;36m[libx264 @ 0x55e79f2bcf00] \u001b[0mref B L1: 96.8%  3.2%\n",
            "\u001b[1;36m[libx264 @ 0x55e79f2bcf00] \u001b[0mkb/s:715.38\n",
            "100% 1363/1363 [10:36<00:00,  2.14it/s]\n"
          ],
          "name": "stdout"
        }
      ]
    }
  ]
}